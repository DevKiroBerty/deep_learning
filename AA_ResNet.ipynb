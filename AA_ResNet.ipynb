{
  "nbformat": 4,
  "nbformat_minor": 0,
  "metadata": {
    "colab": {
      "provenance": [],
      "authorship_tag": "ABX9TyPrOZ3fszlqS9aQHE8TeSo3",
      "include_colab_link": true
    },
    "kernelspec": {
      "name": "python3",
      "display_name": "Python 3"
    },
    "language_info": {
      "name": "python"
    }
  },
  "cells": [
    {
      "cell_type": "markdown",
      "metadata": {
        "id": "view-in-github",
        "colab_type": "text"
      },
      "source": [
        "<a href=\"https://colab.research.google.com/github/DevKiroBerty/deep_learning/blob/main/AA_ResNet.ipynb\" target=\"_parent\"><img src=\"https://colab.research.google.com/assets/colab-badge.svg\" alt=\"Open In Colab\"/></a>"
      ]
    },
    {
      "cell_type": "code",
      "execution_count": 37,
      "metadata": {
        "id": "g6xvrrMKgtHd"
      },
      "outputs": [],
      "source": [
        "import torch\n",
        "import torch.nn as nn\n",
        "import torch.optim as optim\n",
        "import torch.nn.functional as F\n",
        "from torchvision import datasets, transforms\n",
        "from torch.utils.data import DataLoader\n"
      ]
    },
    {
      "cell_type": "code",
      "source": [
        "device = torch.device('cuda' if torch.cuda.is_available() else 'cpu')"
      ],
      "metadata": {
        "id": "ruafyywPg6b-"
      },
      "execution_count": 38,
      "outputs": []
    },
    {
      "cell_type": "code",
      "source": [
        "class AugmentedConv(nn.Module):\n",
        "    def __init__(self, in_channels, out_channels, kernel_size, stride=1, padding=1, heads=4, dv=0.1):\n",
        "        super(AugmentedConv, self).__init__()\n",
        "        self.conv = nn.Conv2d(in_channels, out_channels, kernel_size, stride, padding)\n",
        "        self.attention_conv = nn.Conv2d(in_channels, out_channels, 1)  # Same number of channels as conv\n",
        "\n",
        "    def forward(self, x):\n",
        "        conv_out = self.conv(x)\n",
        "        attention_out = self.attention_conv(x)\n",
        "        # Ensure same dimensions by matching the sizes\n",
        "        if conv_out.size() != attention_out.size():\n",
        "            attention_out = F.interpolate(attention_out, size=conv_out.size()[2:], mode='bilinear', align_corners=False)\n",
        "        return conv_out + attention_out\n",
        "\n"
      ],
      "metadata": {
        "id": "GTvmg8uVg-R8"
      },
      "execution_count": 39,
      "outputs": []
    },
    {
      "cell_type": "code",
      "source": [
        "class BasicBlock(nn.Module):\n",
        "    def __init__(self, in_planes, planes, stride=1):\n",
        "        super(BasicBlock, self).__init__()\n",
        "        self.conv1 = AugmentedConv(in_planes, planes, kernel_size=3, stride=stride, padding=1)\n",
        "        self.bn1 = nn.BatchNorm2d(planes)\n",
        "        self.conv2 = AugmentedConv(planes, planes, kernel_size=3, stride=1, padding=1)\n",
        "        self.bn2 = nn.BatchNorm2d(planes)\n",
        "        self.shortcut = nn.Sequential()\n",
        "        if stride != 1 or in_planes != planes:\n",
        "            self.shortcut = nn.Sequential(\n",
        "                nn.Conv2d(in_planes, planes, kernel_size=1, stride=stride),\n",
        "                nn.BatchNorm2d(planes)\n",
        "            )\n",
        "\n",
        "    def forward(self, x):\n",
        "        out = F.relu(self.bn1(self.conv1(x)))\n",
        "        out = self.bn2(self.conv2(out))\n",
        "        out += self.shortcut(x)\n",
        "        out = F.relu(out)\n",
        "        return out"
      ],
      "metadata": {
        "id": "CO7QmNEBhHoU"
      },
      "execution_count": 40,
      "outputs": []
    },
    {
      "cell_type": "code",
      "source": [
        "class WideResNet(nn.Module):\n",
        "    def __init__(self, depth, widen_factor, num_classes):\n",
        "        super(WideResNet, self).__init__()\n",
        "        n = (depth - 4) // 6\n",
        "        k = widen_factor\n",
        "        self.in_planes = 16\n",
        "\n",
        "        def wide_layer(block, planes, num_blocks, stride):\n",
        "            strides = [stride] + [1]*(num_blocks-1)\n",
        "            layers = []\n",
        "            for stride in strides:\n",
        "                layers.append(block(self.in_planes, planes, stride))\n",
        "                self.in_planes = planes\n",
        "            return nn.Sequential(*layers)\n",
        "\n",
        "        self.conv1 = AugmentedConv(3, 16, kernel_size=3, stride=1, padding=1)\n",
        "        self.layer1 = wide_layer(BasicBlock, 16*k, n, stride=1)\n",
        "        self.layer2 = wide_layer(BasicBlock, 32*k, n, stride=2)\n",
        "        self.layer3 = wide_layer(BasicBlock, 64*k, n, stride=2)\n",
        "        self.bn1 = nn.BatchNorm2d(64*k)\n",
        "        self.linear = nn.Linear(64*k, num_classes)\n",
        "\n",
        "    def forward(self, x):\n",
        "        out = F.relu(self.conv1(x))\n",
        "        out = self.layer1(out)\n",
        "        out = self.layer2(out)\n",
        "        out = self.layer3(out)\n",
        "        out = F.relu(self.bn1(out))\n",
        "        out = F.avg_pool2d(out, 8)\n",
        "        out = out.view(out.size(0), -1)\n",
        "        out = self.linear(out)\n",
        "        return out"
      ],
      "metadata": {
        "id": "Nf0ISIm-hJnC"
      },
      "execution_count": 41,
      "outputs": []
    },
    {
      "cell_type": "code",
      "source": [
        "def load_data(batch_size):\n",
        "    transform = transforms.Compose([\n",
        "        transforms.RandomHorizontalFlip(),\n",
        "        transforms.RandomCrop(32, padding=4),\n",
        "        transforms.ToTensor(),\n",
        "        transforms.Normalize((0.4914, 0.4822, 0.4465), (0.2470, 0.2435, 0.2616)),\n",
        "    ])\n",
        "\n",
        "    trainset = datasets.CIFAR10(root='./data', train=True, download=True, transform=transform)\n",
        "    trainloader = DataLoader(trainset, batch_size=batch_size, shuffle=True, num_workers=2)\n",
        "\n",
        "    testset = datasets.CIFAR10(root='./data', train=False, download=True, transform=transform)\n",
        "    testloader = DataLoader(testset, batch_size=batch_size, shuffle=False, num_workers=2)\n",
        "\n",
        "    return trainloader, testloader"
      ],
      "metadata": {
        "id": "nUcWvwOQht9C"
      },
      "execution_count": 42,
      "outputs": []
    },
    {
      "cell_type": "code",
      "source": [
        "def train_model(model, trainloader, criterion, optimizer, epochs):\n",
        "    model.train()\n",
        "    for epoch in range(epochs):\n",
        "        running_loss = 0.0\n",
        "        for i, (inputs, labels) in enumerate(trainloader):\n",
        "            inputs, labels = inputs.to(device), labels.to(device)\n",
        "\n",
        "            optimizer.zero_grad()\n",
        "            outputs = model(inputs)\n",
        "            loss = criterion(outputs, labels)\n",
        "            loss.backward()\n",
        "            optimizer.step()\n",
        "\n",
        "            running_loss += loss.item()\n",
        "            if i % 100 == 99:  # print every 100 mini-batches\n",
        "                print(f'Epoch [{epoch + 1}, {i + 1}] loss: {running_loss / 100:.3f}')\n",
        "                running_loss = 0.0"
      ],
      "metadata": {
        "id": "lVgH8j4GhzfK"
      },
      "execution_count": 43,
      "outputs": []
    },
    {
      "cell_type": "code",
      "source": [
        "def test_model(model, testloader):\n",
        "    model.eval()\n",
        "    correct = 0\n",
        "    total = 0\n",
        "    with torch.no_grad():\n",
        "        for inputs, labels in testloader:\n",
        "            inputs, labels = inputs.to(device), labels.to(device)\n",
        "            outputs = model(inputs)\n",
        "            _, predicted = torch.max(outputs.data, 1)\n",
        "            total += labels.size(0)\n",
        "            correct += (predicted == labels).sum().item()\n",
        "\n",
        "    print(f'Accuracy of the network on the test images: {100 * correct / total:.2f}%')"
      ],
      "metadata": {
        "id": "jmtmhB1oh3ub"
      },
      "execution_count": 44,
      "outputs": []
    },
    {
      "cell_type": "code",
      "source": [
        "def main():\n",
        "    batch_size = 128\n",
        "    epochs = 10\n",
        "    learning_rate = 0.01\n",
        "\n",
        "    trainloader, testloader = load_data(batch_size)\n",
        "\n",
        "    model = WideResNet(depth=16, widen_factor=2, num_classes=10).to(device)\n",
        "    criterion = nn.CrossEntropyLoss()\n",
        "    optimizer = optim.SGD(model.parameters(), lr=learning_rate, momentum=0.9, weight_decay=5e-4)\n",
        "\n",
        "    train_model(model, trainloader, criterion, optimizer, epochs)\n",
        "    test_model(model, testloader)\n",
        "\n",
        "if __name__ == '__main__':\n",
        "    main()"
      ],
      "metadata": {
        "colab": {
          "base_uri": "https://localhost:8080/"
        },
        "id": "Ow1ShYP0h8gy",
        "outputId": "01bf59fe-3e94-45ff-9536-d1d5e58f7874"
      },
      "execution_count": 45,
      "outputs": [
        {
          "output_type": "stream",
          "name": "stdout",
          "text": [
            "Files already downloaded and verified\n",
            "Files already downloaded and verified\n",
            "Epoch [1, 100] loss: 1.920\n",
            "Epoch [1, 200] loss: 1.571\n",
            "Epoch [1, 300] loss: 1.363\n",
            "Epoch [2, 100] loss: 1.128\n",
            "Epoch [2, 200] loss: 1.042\n",
            "Epoch [2, 300] loss: 0.985\n",
            "Epoch [3, 100] loss: 0.908\n",
            "Epoch [3, 200] loss: 0.862\n",
            "Epoch [3, 300] loss: 0.826\n",
            "Epoch [4, 100] loss: 0.737\n",
            "Epoch [4, 200] loss: 0.724\n",
            "Epoch [4, 300] loss: 0.700\n",
            "Epoch [5, 100] loss: 0.636\n",
            "Epoch [5, 200] loss: 0.641\n",
            "Epoch [5, 300] loss: 0.632\n",
            "Epoch [6, 100] loss: 0.600\n",
            "Epoch [6, 200] loss: 0.576\n",
            "Epoch [6, 300] loss: 0.556\n",
            "Epoch [7, 100] loss: 0.534\n",
            "Epoch [7, 200] loss: 0.534\n",
            "Epoch [7, 300] loss: 0.527\n",
            "Epoch [8, 100] loss: 0.496\n",
            "Epoch [8, 200] loss: 0.500\n",
            "Epoch [8, 300] loss: 0.493\n",
            "Epoch [9, 100] loss: 0.467\n",
            "Epoch [9, 200] loss: 0.455\n",
            "Epoch [9, 300] loss: 0.476\n",
            "Epoch [10, 100] loss: 0.438\n",
            "Epoch [10, 200] loss: 0.429\n",
            "Epoch [10, 300] loss: 0.444\n",
            "Accuracy of the network on the test images: 79.26%\n"
          ]
        }
      ]
    }
  ]
}